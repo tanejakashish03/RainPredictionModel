{
  "nbformat": 4,
  "nbformat_minor": 0,
  "metadata": {
    "colab": {
      "provenance": []
    },
    "kernelspec": {
      "name": "python3",
      "display_name": "Python 3"
    },
    "language_info": {
      "name": "python"
    }
  },
  "cells": [
    {
      "cell_type": "code",
      "source": [
        "from google.colab import drive\n",
        "drive.mount('/content/drive')"
      ],
      "metadata": {
        "id": "X1nHcVAzuOGw",
        "colab": {
          "base_uri": "https://localhost:8080/"
        },
        "outputId": "c7d6e68a-e493-449c-c189-c3df72ea1e98"
      },
      "execution_count": null,
      "outputs": [
        {
          "output_type": "stream",
          "name": "stdout",
          "text": [
            "Drive already mounted at /content/drive; to attempt to forcibly remount, call drive.mount(\"/content/drive\", force_remount=True).\n"
          ]
        }
      ]
    },
    {
      "cell_type": "code",
      "source": [
        "import numpy as np\n",
        "import pandas as pd\n"
      ],
      "metadata": {
        "id": "1qOW0JzzrOGW"
      },
      "execution_count": null,
      "outputs": []
    },
    {
      "cell_type": "code",
      "source": [
        "dataset = pd.read_csv('/content/drive/MyDrive/weatherAUS.csv')\n",
        "X = dataset.iloc[:,[1,2,3,4,7,8,9,10,11,12,13,14,15,16,17,18,19,20,21]].values\n",
        "Y = dataset.iloc[:,-1].values"
      ],
      "metadata": {
        "id": "LVJc-ZSTrXbZ"
      },
      "execution_count": null,
      "outputs": []
    },
    {
      "cell_type": "code",
      "source": [
        "print(X)"
      ],
      "metadata": {
        "colab": {
          "base_uri": "https://localhost:8080/"
        },
        "id": "SXbcSJrDriz8",
        "outputId": "00e8ee41-9de9-4efc-faf7-046846b5455c"
      },
      "execution_count": null,
      "outputs": [
        {
          "output_type": "stream",
          "name": "stdout",
          "text": [
            "[['Albury' 13.4 22.9 ... 16.9 21.8 'No']\n",
            " ['Albury' 7.4 25.1 ... 17.2 24.3 'No']\n",
            " ['Albury' 12.9 25.7 ... 21.0 23.2 'No']\n",
            " ...\n",
            " ['Uluru' 5.4 26.9 ... 12.5 26.1 'No']\n",
            " ['Uluru' 7.8 27.0 ... 15.1 26.0 'No']\n",
            " ['Uluru' 14.9 nan ... 15.0 20.9 'No']]\n"
          ]
        }
      ]
    },
    {
      "cell_type": "code",
      "source": [
        "print(Y)"
      ],
      "metadata": {
        "colab": {
          "base_uri": "https://localhost:8080/"
        },
        "id": "Kle4fiC2rom-",
        "outputId": "0dd8a995-5f22-4f9c-8f12-3c83408e6070"
      },
      "execution_count": null,
      "outputs": [
        {
          "output_type": "stream",
          "name": "stdout",
          "text": [
            "['No' 'No' 'No' ... 'No' 'No' nan]\n"
          ]
        }
      ]
    },
    {
      "cell_type": "code",
      "source": [
        "Y = Y.reshape(-1,1)"
      ],
      "metadata": {
        "id": "NDxBHau_geC0"
      },
      "execution_count": null,
      "outputs": []
    },
    {
      "cell_type": "code",
      "source": [
        "from sklearn.impute import SimpleImputer\n",
        "imputer = SimpleImputer(missing_values=np.nan,strategy='most_frequent')\n",
        "X = imputer.fit_transform(X)\n",
        "Y = imputer.fit_transform(Y)"
      ],
      "metadata": {
        "id": "gC800xatg8FX"
      },
      "execution_count": null,
      "outputs": []
    },
    {
      "cell_type": "code",
      "source": [
        "print(X)\n"
      ],
      "metadata": {
        "colab": {
          "base_uri": "https://localhost:8080/"
        },
        "id": "8aPWDaI1hAxX",
        "outputId": "198fd08f-c00d-4215-9e13-e7c7f1d5799c"
      },
      "execution_count": null,
      "outputs": [
        {
          "output_type": "stream",
          "name": "stdout",
          "text": [
            "[['Albury' 13.4 22.9 ... 16.9 21.8 'No']\n",
            " ['Albury' 7.4 25.1 ... 17.2 24.3 'No']\n",
            " ['Albury' 12.9 25.7 ... 21.0 23.2 'No']\n",
            " ...\n",
            " ['Uluru' 5.4 26.9 ... 12.5 26.1 'No']\n",
            " ['Uluru' 7.8 27.0 ... 15.1 26.0 'No']\n",
            " ['Uluru' 14.9 20.0 ... 15.0 20.9 'No']]\n"
          ]
        }
      ]
    },
    {
      "cell_type": "code",
      "source": [
        "print(Y)"
      ],
      "metadata": {
        "colab": {
          "base_uri": "https://localhost:8080/"
        },
        "id": "OKcpWMALhCtA",
        "outputId": "002b826e-5741-4cac-bf8e-565a799fcd3d"
      },
      "execution_count": null,
      "outputs": [
        {
          "output_type": "stream",
          "name": "stdout",
          "text": [
            "[['No']\n",
            " ['No']\n",
            " ['No']\n",
            " ...\n",
            " ['No']\n",
            " ['No']\n",
            " ['No']]\n"
          ]
        }
      ]
    },
    {
      "cell_type": "code",
      "source": [
        "from sklearn.preprocessing import LabelEncoder\n",
        "le1 = LabelEncoder()\n",
        "X[:,0] = le1.fit_transform(X[:,0])\n",
        "le2 = LabelEncoder()\n",
        "X[:,4] = le2.fit_transform(X[:,4])\n",
        "le3 = LabelEncoder()\n",
        "X[:,6] = le3.fit_transform(X[:,6])\n",
        "le4 = LabelEncoder()\n",
        "X[:,7] = le4.fit_transform(X[:,7])\n",
        "le5 = LabelEncoder()\n",
        "X[:,-1] = le5.fit_transform(X[:,-1])\n",
        "le6 = LabelEncoder()\n",
        "Y[:,-1] = le6.fit_transform(Y[:,-1])"
      ],
      "metadata": {
        "id": "SdzsFRcDhGNN"
      },
      "execution_count": null,
      "outputs": []
    },
    {
      "cell_type": "code",
      "source": [
        "print(X)\n"
      ],
      "metadata": {
        "colab": {
          "base_uri": "https://localhost:8080/"
        },
        "id": "04NnQbtRhSaJ",
        "outputId": "f3424f06-35b7-4142-c10b-c1ac9fb01df8"
      },
      "execution_count": null,
      "outputs": [
        {
          "output_type": "stream",
          "name": "stdout",
          "text": [
            "[[2 13.4 22.9 ... 16.9 21.8 0]\n",
            " [2 7.4 25.1 ... 17.2 24.3 0]\n",
            " [2 12.9 25.7 ... 21.0 23.2 0]\n",
            " ...\n",
            " [41 5.4 26.9 ... 12.5 26.1 0]\n",
            " [41 7.8 27.0 ... 15.1 26.0 0]\n",
            " [41 14.9 20.0 ... 15.0 20.9 0]]\n"
          ]
        }
      ]
    },
    {
      "cell_type": "code",
      "source": [
        "print(Y)\n"
      ],
      "metadata": {
        "colab": {
          "base_uri": "https://localhost:8080/"
        },
        "id": "4gUxYSuthZVw",
        "outputId": "4ac08c8d-d1a7-4375-9a3f-5812abe21754"
      },
      "execution_count": null,
      "outputs": [
        {
          "output_type": "stream",
          "name": "stdout",
          "text": [
            "[[0]\n",
            " [0]\n",
            " [0]\n",
            " ...\n",
            " [0]\n",
            " [0]\n",
            " [0]]\n"
          ]
        }
      ]
    },
    {
      "cell_type": "code",
      "source": [
        "Y = np.array(Y,dtype=float)\n",
        "print(Y)"
      ],
      "metadata": {
        "colab": {
          "base_uri": "https://localhost:8080/"
        },
        "id": "Dzy9VbKDhb7G",
        "outputId": "fe61b053-72ae-4c89-ac32-54b92e048277"
      },
      "execution_count": null,
      "outputs": [
        {
          "output_type": "stream",
          "name": "stdout",
          "text": [
            "[[0.]\n",
            " [0.]\n",
            " [0.]\n",
            " ...\n",
            " [0.]\n",
            " [0.]\n",
            " [0.]]\n"
          ]
        }
      ]
    },
    {
      "cell_type": "code",
      "source": [
        "from sklearn.preprocessing import StandardScaler\n",
        "sc = StandardScaler()\n",
        "X = sc.fit_transform(X)\n",
        "\n",
        "\n",
        "print(X)"
      ],
      "metadata": {
        "colab": {
          "base_uri": "https://localhost:8080/"
        },
        "id": "ECi9AiUAhgQ9",
        "outputId": "0872d290-dd46-4fc4-9022-6d54674abd94"
      },
      "execution_count": null,
      "outputs": [
        {
          "output_type": "stream",
          "name": "stdout",
          "text": [
            "[[-1.53166617  0.19132753 -0.04135977 ... -0.01407077  0.02310362\n",
            "  -0.52979545]\n",
            " [-1.53166617 -0.75105231  0.26874452 ...  0.03244663  0.387799\n",
            "  -0.52979545]\n",
            " [-1.53166617  0.11279588  0.35331842 ...  0.62166712  0.22733303\n",
            "  -0.52979545]\n",
            " ...\n",
            " [ 1.20928479 -1.06517892  0.52246622 ... -0.69632607  0.65037966\n",
            "  -0.52979545]\n",
            " [ 1.20928479 -0.68822699  0.53656187 ... -0.29317521  0.63579185\n",
            "  -0.52979545]\n",
            " [ 1.20928479  0.42692249 -0.45013361 ... -0.30868102 -0.10818671\n",
            "  -0.52979545]]\n"
          ]
        }
      ]
    },
    {
      "cell_type": "code",
      "source": [
        "from sklearn.model_selection import train_test_split\n",
        "X_train,X_test,Y_train,Y_test = train_test_split(X,Y,test_size=0.2,random_state=0)\n",
        "\n",
        "\n",
        "print(X_train)\n"
      ],
      "metadata": {
        "colab": {
          "base_uri": "https://localhost:8080/"
        },
        "id": "9rCSJZNuhnAc",
        "outputId": "af70a7b4-7de8-421d-a494-90328b24faea"
      },
      "execution_count": null,
      "outputs": [
        {
          "output_type": "stream",
          "name": "stdout",
          "text": [
            "[[ 0.22535368  1.03946939  0.07140543 ...  0.68369032  0.08145488\n",
            "  -0.52979545]\n",
            " [ 1.42012717 -0.45263203  0.11369237 ... -0.41722163  0.22733303\n",
            "  -0.52979545]\n",
            " [ 0.50647685 -0.20133073 -0.14002932 ... -0.06058818 -0.02065982\n",
            "   1.88752093]\n",
            " ...\n",
            " [ 1.0687232   0.75675544  0.93124006 ...  1.10234698  1.07342629\n",
            "  -0.52979545]\n",
            " [ 0.57675765 -0.04426743 -0.16822062 ...  0.01694083 -0.28324049\n",
            "   1.88752093]\n",
            " [ 1.63096955 -0.0285611  -0.91529006 ... -0.35519842 -0.76463838\n",
            "  -0.52979545]]\n"
          ]
        }
      ]
    },
    {
      "cell_type": "code",
      "source": [
        "print(Y_train)"
      ],
      "metadata": {
        "colab": {
          "base_uri": "https://localhost:8080/"
        },
        "id": "PBlRI3DPhoyc",
        "outputId": "dafc4e58-d3e2-4c3f-e183-b9939e5137d7"
      },
      "execution_count": null,
      "outputs": [
        {
          "output_type": "stream",
          "name": "stdout",
          "text": [
            "[[1.]\n",
            " [0.]\n",
            " [0.]\n",
            " ...\n",
            " [0.]\n",
            " [0.]\n",
            " [0.]]\n"
          ]
        }
      ]
    },
    {
      "cell_type": "code",
      "source": [
        "from sklearn.ensemble import RandomForestClassifier\n",
        "classifier = RandomForestClassifier(n_estimators=100,random_state=0)\n",
        "classifier.fit(X_train,Y_train)"
      ],
      "metadata": {
        "colab": {
          "base_uri": "https://localhost:8080/",
          "height": 129
        },
        "id": "CAzGSFyNhv1i",
        "outputId": "e31694cc-c024-4a3c-8da8-b59c7ac020ac"
      },
      "execution_count": null,
      "outputs": [
        {
          "output_type": "stream",
          "name": "stderr",
          "text": [
            "<ipython-input-18-84bb09ba651d>:3: DataConversionWarning: A column-vector y was passed when a 1d array was expected. Please change the shape of y to (n_samples,), for example using ravel().\n",
            "  classifier.fit(X_train,Y_train)\n"
          ]
        },
        {
          "output_type": "execute_result",
          "data": {
            "text/plain": [
              "RandomForestClassifier(random_state=0)"
            ],
            "text/html": [
              "<style>#sk-container-id-1 {color: black;background-color: white;}#sk-container-id-1 pre{padding: 0;}#sk-container-id-1 div.sk-toggleable {background-color: white;}#sk-container-id-1 label.sk-toggleable__label {cursor: pointer;display: block;width: 100%;margin-bottom: 0;padding: 0.3em;box-sizing: border-box;text-align: center;}#sk-container-id-1 label.sk-toggleable__label-arrow:before {content: \"▸\";float: left;margin-right: 0.25em;color: #696969;}#sk-container-id-1 label.sk-toggleable__label-arrow:hover:before {color: black;}#sk-container-id-1 div.sk-estimator:hover label.sk-toggleable__label-arrow:before {color: black;}#sk-container-id-1 div.sk-toggleable__content {max-height: 0;max-width: 0;overflow: hidden;text-align: left;background-color: #f0f8ff;}#sk-container-id-1 div.sk-toggleable__content pre {margin: 0.2em;color: black;border-radius: 0.25em;background-color: #f0f8ff;}#sk-container-id-1 input.sk-toggleable__control:checked~div.sk-toggleable__content {max-height: 200px;max-width: 100%;overflow: auto;}#sk-container-id-1 input.sk-toggleable__control:checked~label.sk-toggleable__label-arrow:before {content: \"▾\";}#sk-container-id-1 div.sk-estimator input.sk-toggleable__control:checked~label.sk-toggleable__label {background-color: #d4ebff;}#sk-container-id-1 div.sk-label input.sk-toggleable__control:checked~label.sk-toggleable__label {background-color: #d4ebff;}#sk-container-id-1 input.sk-hidden--visually {border: 0;clip: rect(1px 1px 1px 1px);clip: rect(1px, 1px, 1px, 1px);height: 1px;margin: -1px;overflow: hidden;padding: 0;position: absolute;width: 1px;}#sk-container-id-1 div.sk-estimator {font-family: monospace;background-color: #f0f8ff;border: 1px dotted black;border-radius: 0.25em;box-sizing: border-box;margin-bottom: 0.5em;}#sk-container-id-1 div.sk-estimator:hover {background-color: #d4ebff;}#sk-container-id-1 div.sk-parallel-item::after {content: \"\";width: 100%;border-bottom: 1px solid gray;flex-grow: 1;}#sk-container-id-1 div.sk-label:hover label.sk-toggleable__label {background-color: #d4ebff;}#sk-container-id-1 div.sk-serial::before {content: \"\";position: absolute;border-left: 1px solid gray;box-sizing: border-box;top: 0;bottom: 0;left: 50%;z-index: 0;}#sk-container-id-1 div.sk-serial {display: flex;flex-direction: column;align-items: center;background-color: white;padding-right: 0.2em;padding-left: 0.2em;position: relative;}#sk-container-id-1 div.sk-item {position: relative;z-index: 1;}#sk-container-id-1 div.sk-parallel {display: flex;align-items: stretch;justify-content: center;background-color: white;position: relative;}#sk-container-id-1 div.sk-item::before, #sk-container-id-1 div.sk-parallel-item::before {content: \"\";position: absolute;border-left: 1px solid gray;box-sizing: border-box;top: 0;bottom: 0;left: 50%;z-index: -1;}#sk-container-id-1 div.sk-parallel-item {display: flex;flex-direction: column;z-index: 1;position: relative;background-color: white;}#sk-container-id-1 div.sk-parallel-item:first-child::after {align-self: flex-end;width: 50%;}#sk-container-id-1 div.sk-parallel-item:last-child::after {align-self: flex-start;width: 50%;}#sk-container-id-1 div.sk-parallel-item:only-child::after {width: 0;}#sk-container-id-1 div.sk-dashed-wrapped {border: 1px dashed gray;margin: 0 0.4em 0.5em 0.4em;box-sizing: border-box;padding-bottom: 0.4em;background-color: white;}#sk-container-id-1 div.sk-label label {font-family: monospace;font-weight: bold;display: inline-block;line-height: 1.2em;}#sk-container-id-1 div.sk-label-container {text-align: center;}#sk-container-id-1 div.sk-container {/* jupyter's `normalize.less` sets `[hidden] { display: none; }` but bootstrap.min.css set `[hidden] { display: none !important; }` so we also need the `!important` here to be able to override the default hidden behavior on the sphinx rendered scikit-learn.org. See: https://github.com/scikit-learn/scikit-learn/issues/21755 */display: inline-block !important;position: relative;}#sk-container-id-1 div.sk-text-repr-fallback {display: none;}</style><div id=\"sk-container-id-1\" class=\"sk-top-container\"><div class=\"sk-text-repr-fallback\"><pre>RandomForestClassifier(random_state=0)</pre><b>In a Jupyter environment, please rerun this cell to show the HTML representation or trust the notebook. <br />On GitHub, the HTML representation is unable to render, please try loading this page with nbviewer.org.</b></div><div class=\"sk-container\" hidden><div class=\"sk-item\"><div class=\"sk-estimator sk-toggleable\"><input class=\"sk-toggleable__control sk-hidden--visually\" id=\"sk-estimator-id-1\" type=\"checkbox\" checked><label for=\"sk-estimator-id-1\" class=\"sk-toggleable__label sk-toggleable__label-arrow\">RandomForestClassifier</label><div class=\"sk-toggleable__content\"><pre>RandomForestClassifier(random_state=0)</pre></div></div></div></div></div>"
            ]
          },
          "metadata": {},
          "execution_count": 18
        }
      ]
    },
    {
      "cell_type": "code",
      "source": [
        "classifier.score(X_train,Y_train)"
      ],
      "metadata": {
        "colab": {
          "base_uri": "https://localhost:8080/"
        },
        "id": "C3RtZYBNh8n4",
        "outputId": "bea5b4c4-b27c-4f50-b94f-983697ec9d68"
      },
      "execution_count": null,
      "outputs": [
        {
          "output_type": "execute_result",
          "data": {
            "text/plain": [
              "0.9999312525780283"
            ]
          },
          "metadata": {},
          "execution_count": 19
        }
      ]
    },
    {
      "cell_type": "code",
      "source": [
        "y_pred = le6.inverse_transform(np.array(classifier.predict(X_test),dtype=int))\n"
      ],
      "metadata": {
        "id": "ZgF5BlHsiGYl"
      },
      "execution_count": null,
      "outputs": []
    },
    {
      "cell_type": "code",
      "source": [
        "Y_test = le6.inverse_transform(np.array(Y_test,dtype=int))\n"
      ],
      "metadata": {
        "colab": {
          "base_uri": "https://localhost:8080/"
        },
        "id": "IuFhbdT4iwHP",
        "outputId": "46ef4661-5f0d-44c8-e373-1f49662aaac5"
      },
      "execution_count": null,
      "outputs": [
        {
          "output_type": "stream",
          "name": "stderr",
          "text": [
            "/usr/local/lib/python3.10/dist-packages/sklearn/preprocessing/_label.py:155: DataConversionWarning: A column-vector y was passed when a 1d array was expected. Please change the shape of y to (n_samples, ), for example using ravel().\n",
            "  y = column_or_1d(y, warn=True)\n"
          ]
        }
      ]
    },
    {
      "cell_type": "code",
      "source": [
        "print(y_pred)\n"
      ],
      "metadata": {
        "colab": {
          "base_uri": "https://localhost:8080/"
        },
        "id": "QI_pv72wi2Fn",
        "outputId": "5638b4d5-f59c-4af2-d85f-723d0b0f0925"
      },
      "execution_count": null,
      "outputs": [
        {
          "output_type": "stream",
          "name": "stdout",
          "text": [
            "['No' 'No' 'No' ... 'No' 'No' 'No']\n"
          ]
        }
      ]
    },
    {
      "cell_type": "code",
      "source": [
        "print(Y_test)\n"
      ],
      "metadata": {
        "colab": {
          "base_uri": "https://localhost:8080/"
        },
        "id": "LHl2nBFSi9Ta",
        "outputId": "9b3dd546-fc51-4fad-837d-3d374f45c54b"
      },
      "execution_count": null,
      "outputs": [
        {
          "output_type": "stream",
          "name": "stdout",
          "text": [
            "['Yes' 'Yes' 'No' ... 'Yes' 'No' 'No']\n"
          ]
        }
      ]
    },
    {
      "cell_type": "code",
      "source": [
        "y_pred = y_pred.reshape(-1,1)\n",
        "Y_test = Y_test.reshape(-1,1)"
      ],
      "metadata": {
        "id": "Cj02pvEijEIB"
      },
      "execution_count": null,
      "outputs": []
    },
    {
      "cell_type": "code",
      "source": [
        "df = np.concatenate((Y_test,y_pred),axis=1)\n"
      ],
      "metadata": {
        "id": "3M9ihosEjURw"
      },
      "execution_count": null,
      "outputs": []
    },
    {
      "cell_type": "code",
      "source": [
        "dataframe = pd.DataFrame(df,columns=['Rain on Tommorrow','Predition of Rain'])"
      ],
      "metadata": {
        "id": "mREIOVaIk-rF"
      },
      "execution_count": null,
      "outputs": []
    },
    {
      "cell_type": "code",
      "source": [
        "print(dataframe)\n"
      ],
      "metadata": {
        "colab": {
          "base_uri": "https://localhost:8080/"
        },
        "id": "jZvBns1QlCKt",
        "outputId": "7833b9bb-daba-4bcb-d2f4-a77a816b7ff5"
      },
      "execution_count": null,
      "outputs": [
        {
          "output_type": "stream",
          "name": "stdout",
          "text": [
            "      Rain on Tommorrow Predition of Rain\n",
            "0                   Yes                No\n",
            "1                   Yes                No\n",
            "2                    No                No\n",
            "3                    No               Yes\n",
            "4                    No                No\n",
            "...                 ...               ...\n",
            "29087                No               Yes\n",
            "29088                No                No\n",
            "29089               Yes                No\n",
            "29090                No                No\n",
            "29091                No                No\n",
            "\n",
            "[29092 rows x 2 columns]\n"
          ]
        }
      ]
    },
    {
      "cell_type": "code",
      "source": [
        "from sklearn.metrics import accuracy_score\n",
        "accuracy_score(Y_test,y_pred)"
      ],
      "metadata": {
        "colab": {
          "base_uri": "https://localhost:8080/"
        },
        "id": "tyyP7pQjlFWO",
        "outputId": "eebac92e-3608-49b8-e7aa-652605fe38ba"
      },
      "execution_count": null,
      "outputs": [
        {
          "output_type": "execute_result",
          "data": {
            "text/plain": [
              "0.8521930427608965"
            ]
          },
          "metadata": {},
          "execution_count": 28
        }
      ]
    },
    {
      "cell_type": "code",
      "source": [
        "dataframe.to_csv('prediction.csv')"
      ],
      "metadata": {
        "id": "K4RVDq8NljnL"
      },
      "execution_count": null,
      "outputs": []
    },
    {
      "cell_type": "code",
      "source": [
        "import pickle\n"
      ],
      "metadata": {
        "id": "v4k4-paUDj4I"
      },
      "execution_count": null,
      "outputs": []
    },
    {
      "cell_type": "code",
      "source": [
        "pickle.dump(classifier, open('//content/drive/MyDrive/model_saved','wb' ))"
      ],
      "metadata": {
        "id": "vkvkMQIuD19u"
      },
      "execution_count": null,
      "outputs": []
    },
    {
      "cell_type": "code",
      "source": [
        "pip install flask-ngrok"
      ],
      "metadata": {
        "id": "rTQoR07FIUpi",
        "colab": {
          "base_uri": "https://localhost:8080/"
        },
        "outputId": "83f95114-e24f-47ad-c6d2-929d99fcbc61"
      },
      "execution_count": null,
      "outputs": [
        {
          "output_type": "stream",
          "name": "stdout",
          "text": [
            "Collecting flask-ngrok\n",
            "  Downloading flask_ngrok-0.0.25-py3-none-any.whl (3.1 kB)\n",
            "Requirement already satisfied: Flask>=0.8 in /usr/local/lib/python3.10/dist-packages (from flask-ngrok) (2.2.5)\n",
            "Requirement already satisfied: requests in /usr/local/lib/python3.10/dist-packages (from flask-ngrok) (2.27.1)\n",
            "Requirement already satisfied: Werkzeug>=2.2.2 in /usr/local/lib/python3.10/dist-packages (from Flask>=0.8->flask-ngrok) (2.3.6)\n",
            "Requirement already satisfied: Jinja2>=3.0 in /usr/local/lib/python3.10/dist-packages (from Flask>=0.8->flask-ngrok) (3.1.2)\n",
            "Requirement already satisfied: itsdangerous>=2.0 in /usr/local/lib/python3.10/dist-packages (from Flask>=0.8->flask-ngrok) (2.1.2)\n",
            "Requirement already satisfied: click>=8.0 in /usr/local/lib/python3.10/dist-packages (from Flask>=0.8->flask-ngrok) (8.1.6)\n",
            "Requirement already satisfied: urllib3<1.27,>=1.21.1 in /usr/local/lib/python3.10/dist-packages (from requests->flask-ngrok) (1.26.16)\n",
            "Requirement already satisfied: certifi>=2017.4.17 in /usr/local/lib/python3.10/dist-packages (from requests->flask-ngrok) (2023.7.22)\n",
            "Requirement already satisfied: charset-normalizer~=2.0.0 in /usr/local/lib/python3.10/dist-packages (from requests->flask-ngrok) (2.0.12)\n",
            "Requirement already satisfied: idna<4,>=2.5 in /usr/local/lib/python3.10/dist-packages (from requests->flask-ngrok) (3.4)\n",
            "Requirement already satisfied: MarkupSafe>=2.0 in /usr/local/lib/python3.10/dist-packages (from Jinja2>=3.0->Flask>=0.8->flask-ngrok) (2.1.3)\n",
            "Installing collected packages: flask-ngrok\n",
            "Successfully installed flask-ngrok-0.0.25\n"
          ]
        }
      ]
    },
    {
      "cell_type": "code",
      "source": [
        "from flask_ngrok import run_with_ngrok\n",
        "from flask import Flask, request, render_template"
      ],
      "metadata": {
        "id": "DEMWR2OqIfda"
      },
      "execution_count": null,
      "outputs": []
    },
    {
      "cell_type": "code",
      "source": [
        "from flask import Flask,render_template,url_for,request,jsonify\n",
        "from flask_cors import cross_origin\n",
        "import pandas as pd\n",
        "import numpy as np\n",
        "import datetime\n",
        "import pickle\n",
        "\n",
        "app = Flask(__name__, template_folder=\"template\")\n",
        "model = pickle.load(open(\"/content/drive/MyDrive/model_saved\", \"rb\"))\n",
        "\n",
        "@app.route(\"/predict\",methods=['GET', 'POST'])\n",
        "@cross_origin()\n",
        "def predict():\n",
        "\treturn render_template(\"Predictor.html\")\n",
        "\tif request.method == \"POST\":\n",
        "\t\t# DATE\n",
        "\t\tdate = request.form['date']\n",
        "\t\tday = float(pd.to_datetime(date, format=\"%Y-%m-%dT\").day)\n",
        "\t\tmonth = float(pd.to_datetime(date, format=\"%Y-%m-%dT\").month)\n",
        "\t\t# MinTemp\n",
        "\t\tminTemp = float(request.form['mintemp'])\n",
        "\t\t# MaxTemp\n",
        "\t\tmaxTemp = float(request.form['maxtemp'])\n",
        "\t\t# Rainfall\n",
        "\t\trainfall = float(request.form['rainfall'])\n",
        "\t\t# Evaporation\n",
        "\t\tevaporation = float(request.form['evaporation'])\n",
        "\t\t# Sunshine\n",
        "\t\tsunshine = float(request.form['sunshine'])\n",
        "\t\t# Wind Gust Speed\n",
        "\t\twindGustSpeed = float(request.form['windgustspeed'])\n",
        "\t\t# Wind Speed 9am\n",
        "\t\twindSpeed9am = float(request.form['windspeed9am'])\n",
        "\t\t# Wind Speed 3pm\n",
        "\t\twindSpeed3pm = float(request.form['windspeed3pm'])\n",
        "\t\t# Humidity 9am\n",
        "\t\thumidity9am = float(request.form['humidity9am'])\n",
        "\t\t# Humidity 3pm\n",
        "\t\thumidity3pm = float(request.form['humidity3pm'])\n",
        "\t\t# Pressure 9am\n",
        "\t\tpressure9am = float(request.form['pressure9am'])\n",
        "\t\t# Pressure 3pm\n",
        "\t\tpressure3pm = float(request.form['pressure3pm'])\n",
        "\t\t# Temperature 9am\n",
        "\t\ttemp9am = float(request.form['temp9am'])\n",
        "\t\t# Temperature 3pm\n",
        "\t\ttemp3pm = float(request.form['temp3pm'])\n",
        "\t\t# Cloud 9am\n",
        "\t\tcloud9am = float(request.form['cloud9am'])\n",
        "\t\t# Cloud 3pm\n",
        "\t\tcloud3pm = float(request.form['cloud3pm'])\n",
        "\t\t# Cloud 3pm\n",
        "\t\tlocation = float(request.form['location'])\n",
        "\t\t# Wind Dir 9am\n",
        "\t\twinddDir9am = float(request.form['winddir9am'])\n",
        "\t\t# Wind Dir 3pm\n",
        "\t\twinddDir3pm = float(request.form['winddir3pm'])\n",
        "\t\t# Wind Gust Dir\n",
        "\t\twindGustDir = float(request.form['windgustdir'])\n",
        "\t\t# Rain Today\n",
        "\t\trainToday = float(request.form['raintoday'])\n",
        "\n",
        "\t\tinput_lst = [location , minTemp , maxTemp , rainfall , evaporation , sunshine ,\n",
        "\t\t\t\t\t windGustDir , windGustSpeed , winddDir9am , winddDir3pm , windSpeed9am , windSpeed3pm ,\n",
        "\t\t\t\t\t humidity9am , humidity3pm , pressure9am , pressure3pm , cloud9am , cloud3pm , temp9am , temp3pm ,\n",
        "\t\t\t\t\t rainToday , month , day]\n",
        "\t\tpred = model.predict(input_lst)\n",
        "\t\toutput = pred\n",
        "\t\tif output == 0:\n",
        "\t\t\treturn render_template(\"after_sunny.html\")\n",
        "\t\telse:\n",
        "\t\t\treturn render_template(\"after_rainy.html\")\n",
        "\treturn render_template(\"predictor.html\")\n",
        "\n",
        "if __name__=='__main__':\n",
        "\tapp.run(debug=True)"
      ],
      "metadata": {
        "id": "um5K_QIQ0XfK",
        "colab": {
          "base_uri": "https://localhost:8080/",
          "height": 383
        },
        "outputId": "98feee16-ea4e-4b59-c6fc-3967d3f9b7e0"
      },
      "execution_count": null,
      "outputs": [
        {
          "output_type": "error",
          "ename": "ModuleNotFoundError",
          "evalue": "ignored",
          "traceback": [
            "\u001b[0;31m---------------------------------------------------------------------------\u001b[0m",
            "\u001b[0;31mModuleNotFoundError\u001b[0m                       Traceback (most recent call last)",
            "\u001b[0;32m<ipython-input-34-081aa527a592>\u001b[0m in \u001b[0;36m<cell line: 2>\u001b[0;34m()\u001b[0m\n\u001b[1;32m      1\u001b[0m \u001b[0;32mfrom\u001b[0m \u001b[0mflask\u001b[0m \u001b[0;32mimport\u001b[0m \u001b[0mFlask\u001b[0m\u001b[0;34m,\u001b[0m\u001b[0mrender_template\u001b[0m\u001b[0;34m,\u001b[0m\u001b[0murl_for\u001b[0m\u001b[0;34m,\u001b[0m\u001b[0mrequest\u001b[0m\u001b[0;34m,\u001b[0m\u001b[0mjsonify\u001b[0m\u001b[0;34m\u001b[0m\u001b[0;34m\u001b[0m\u001b[0m\n\u001b[0;32m----> 2\u001b[0;31m \u001b[0;32mfrom\u001b[0m \u001b[0mflask_cors\u001b[0m \u001b[0;32mimport\u001b[0m \u001b[0mcross_origin\u001b[0m\u001b[0;34m\u001b[0m\u001b[0;34m\u001b[0m\u001b[0m\n\u001b[0m\u001b[1;32m      3\u001b[0m \u001b[0;32mimport\u001b[0m \u001b[0mpandas\u001b[0m \u001b[0;32mas\u001b[0m \u001b[0mpd\u001b[0m\u001b[0;34m\u001b[0m\u001b[0;34m\u001b[0m\u001b[0m\n\u001b[1;32m      4\u001b[0m \u001b[0;32mimport\u001b[0m \u001b[0mnumpy\u001b[0m \u001b[0;32mas\u001b[0m \u001b[0mnp\u001b[0m\u001b[0;34m\u001b[0m\u001b[0;34m\u001b[0m\u001b[0m\n\u001b[1;32m      5\u001b[0m \u001b[0;32mimport\u001b[0m \u001b[0mdatetime\u001b[0m\u001b[0;34m\u001b[0m\u001b[0;34m\u001b[0m\u001b[0m\n",
            "\u001b[0;31mModuleNotFoundError\u001b[0m: No module named 'flask_cors'",
            "",
            "\u001b[0;31m---------------------------------------------------------------------------\u001b[0;32m\nNOTE: If your import is failing due to a missing package, you can\nmanually install dependencies using either !pip or !apt.\n\nTo view examples of installing some common dependencies, click the\n\"Open Examples\" button below.\n\u001b[0;31m---------------------------------------------------------------------------\u001b[0m\n"
          ],
          "errorDetails": {
            "actions": [
              {
                "action": "open_url",
                "actionText": "Open Examples",
                "url": "/notebooks/snippets/importing_libraries.ipynb"
              }
            ]
          }
        }
      ]
    },
    {
      "cell_type": "code",
      "source": [
        "@app.route(\"/\",methods=['GET'])\n",
        "@cross_origin()\n",
        "def home():"
      ],
      "metadata": {
        "id": "1rLTVg8h0Wsa"
      },
      "execution_count": null,
      "outputs": []
    },
    {
      "cell_type": "code",
      "source": [
        "!DOCTYPE html>\n",
        "<html lang=\"en\">\n",
        "<head>\n",
        "    <meta charset=\"UTF-8\">\n",
        "    <meta http-equiv=\"X-UA-Compatible\" content=\"IE=edge\">\n",
        "    <meta name=\"viewport\" content=\"width=device-width, initial-scale=1.0\">\n",
        "    <link rel=\"preconnect\" href=\"https://fonts.gstatic.com\">\n",
        "    <link href=\"https://fonts.googleapis.com/css2?family=Poppins:wght@100;400;500;600;700;800;900&display=swap\" rel=\"stylesheet\">\n",
        "    <link href=\"https://cdn.jsdelivr.net/npm/bootstrap@5.0.0-beta2/dist/css/bootstrap.min.css\"\n",
        "    rel=\"stylesheet\" integrity=\"sha384-BmbxuPwQa2lc/FVzBcNJ7UAyJxM6wuqIj61tLrc4wSX0szH/Ev+nYRRuWlolflfl\" crossorigin=\"anonymous\">\n",
        "    <link rel=\"stylesheet\" href=\"../static/predictor.css\">\n",
        "    <title>Rain Prediction</title>\n",
        "</head>\n",
        "<body>\n",
        "\n",
        "    <section id=\"prediction-form\">\n",
        "        <form class=\"form\" action=\"/predict\", method=\"POST\">\n",
        "            <h1 class=\"my-3 text-center\"><b> PREDICTOR</b></h1>\n",
        "            <div class=\"row\">\n",
        "                <div class=\"col-md-6 my-2\">\n",
        "                    <div class=\"md-form\">\n",
        "                        <label for=\"date\" class=\"date\">Date</label>\n",
        "                        <input type=\"date\" class=\"form-control\" id=\"date\" name=\"date\">\n",
        "                    </div>\n",
        "                </div>\n",
        "                <div class=\"col-md-6 my-2\">\n",
        "                    <div class=\"md-form\">\n",
        "                        <label for=\"mintemp\" class=\"mintemp\"> Minimum temprature</label>\n",
        "                        <input type=\"text\" class=\"form-control\" id=\"mintemp\" name=\"mintemp\">\n",
        "                    </div>\n",
        "                </div>\n",
        "                <div class=\"col-md-6 my-2\">\n",
        "                    <div class=\"md-form\">\n",
        "                        <label for=\"maxtemp\" class=\"maxtemp\">Maximum Temperature</label>\n",
        "                        <input type=\"text\" class=\"form-control\" id=\"maxtemp\" name=\"maxtemp\">\n",
        "                    </div>\n",
        "                </div>\n",
        "                <div class=\"col-md-6 my-2\">\n",
        "                    <div class=\"md-form\">\n",
        "                        <label for=\"rainfall\" class=\"rainfall\">Rainfall</label>\n",
        "                        <input type=\"text\" class=\"form-control\" id=\"rainfall\" name=\"rainfall\">\n",
        "                    </div>\n",
        "                </div>\n",
        "                <div class=\"col-md-6 my-2\">\n",
        "                    <div class=\"md-form\">\n",
        "                        <label for=\"evaporation\" class=\"evaporation\">Evaporation</label>\n",
        "                        <input type=\"text\" class=\"form-control\" id=\"evaporation\" name=\"evaporation\">\n",
        "                    </div>\n",
        "                </div>\n",
        "                <div class=\"col-md-6 my-2\">\n",
        "                    <div class=\"md-form\">\n",
        "                        <label for=\"sunshine\" class=\"sunshine\">Sunshine</label>\n",
        "                        <input type=\"text\" class=\"form-control\" id=\"sunshine\" name=\"sunshine\">\n",
        "                    </div>\n",
        "                </div>\n",
        "                <div class=\"col-md-6 my-2\">\n",
        "                    <div class=\"md-form\">\n",
        "                        <label for=\"windgustspeed\" class=\"windgustspeed\">Wind Gust Speed</label>\n",
        "                        <input type=\"text\" class=\"form-control\" id=\"windgustspeed\" name=\"windgustspeed\">\n",
        "                    </div>\n",
        "                </div>\n",
        "                <div class=\"col-md-6 my-2\">\n",
        "                    <div class=\"md-form\">\n",
        "                        <label for=\"windspeed9am\" class=\"windspeed9am\">Wind Speed 9am</label>\n",
        "                        <input type=\"text\" class=\"form-control\" id=\"windspeed9am\" name=\"windspeed9am\">\n",
        "                    </div>\n",
        "                </div>\n",
        "                <div class=\"col-md-6 my-2\">\n",
        "                    <div class=\"md-form\">\n",
        "                        <label for=\"windspeed3pm\" class=\"windspeed3pm\">Wind Speed 3pm</label>\n",
        "                        <input type=\"text\" class=\"form-control\" id=\"windspeed3pm\" name=\"windspeed3pm\">\n",
        "                    </div>\n",
        "                </div>\n",
        "                <div class=\"col-md-6 my-2\">\n",
        "                    <div class=\"md-form\">\n",
        "                        <label for=\"humidity9am\" class=\"humidity9am\">Humidity 9am</label>\n",
        "                        <input type=\"text\" class=\"form-control\" id=\"humidity9am\" name=\"humidity9am\">\n",
        "                    </div>\n",
        "                </div>\n",
        "                <div class=\"col-md-6 my-2\">\n",
        "                    <div class=\"md-form\">\n",
        "                        <label for=\"humidity3pm\" class=\"humidity3pm\">Humidity 3pm</label>\n",
        "                        <input type=\"text\" class=\"form-control\" id=\"humidity3pm\" name=\"humidity3pm\">\n",
        "                    </div>\n",
        "                </div>\n",
        "                <div class=\"col-md-6 my-2\">\n",
        "                    <div class=\"md-form\">\n",
        "                        <label for=\"pressure9am\" class=\"pressure9am\">Pressure 9am</label>\n",
        "                        <input type=\"text\" class=\"form-control\" id=\"pressure9am\" name=\"pressure9am\">\n",
        "                    </div>\n",
        "                </div>\n",
        "                <div class=\"col-md-6 my-2\">\n",
        "                    <div class=\"md-form\">\n",
        "                        <label for=\"pressure3pm\" class=\"pressure3pm\">Pressure 3pm</label>\n",
        "                        <input type=\"text\" class=\"form-control\" id=\"pressure3pm\" name=\"pressure3pm\">\n",
        "                    </div>\n",
        "                </div>\n",
        "\n",
        "                <div class=\"col-md-6 my-2\">\n",
        "                    <div class=\"md-form\">\n",
        "                        <label for=\"temp9am\" class=\"temp9am\">Temperature 9am</label>\n",
        "                        <input type=\"text\" class=\"form-control\" id=\"temp9am\" name=\"temp9am\">\n",
        "                    </div>\n",
        "                </div>\n",
        "                <div class=\"col-md-6 my-2\">\n",
        "                    <div class=\"md-form\">\n",
        "                        <label for=\"temp3pm\" class=temp3pm\">Temperature 3pm</label>\n",
        "                        <input type=\"text\" class=\"form-control\" id=\"temp3pm\" name=\"temp3pm\">\n",
        "                    </div>\n",
        "                </div>\n",
        "                <div class=\"col-md-6 my-2\">\n",
        "                    <div class=\"md-form\">\n",
        "                        <label for=\"cloud9am\" class=\"cloud9am\">Cloud 9am</label>\n",
        "                        <input type=\"text\" class=\"form-control\" id=\"cloud9am\" name=\"cloud9am\">\n",
        "                    </div>\n",
        "                </div>\n",
        "                <div class=\"col-md-6 my-2\">\n",
        "                    <div class=\"md-form\">\n",
        "                        <label for=\"cloud3pm\" class=\"cloud3pm\">Cloud 3pm</label>\n",
        "                        <input type=\"text\" class=\"form-control\" id=\"cloud3pm\" name=\"cloud3pm\">\n",
        "                    </div>\n",
        "                </div>\n",
        "                <div class=\"col-md-6 my-2\">\n",
        "                    <div class=\"md-form\">\n",
        "                        <label for=\"location\" class=\"location\" name=\"location\">Location</label>\n",
        "                        <select class=\"location\" id=\"location\" name=\"location\" aria-label=\"Location\">\n",
        "                            <option selected>Select Location</option>\n",
        "                            <option value= 24>Adelaide</option>\n",
        "                            <option value= 7>Albany</option>\n",
        "                            <option value= 30>Albury</option>\n",
        "                            <option value= 46>AliceSprings</option>\n",
        "                            <option value= 33>BadgerysCreek</option>\n",
        "                            <option value= 14>Ballarat</option>\n",
        "                            <option value= 36>Bendigo</option>\n",
        "                            <option value= 21>Brisbane</option>\n",
        "                            <option value= 2>Cairns</option>\n",
        "                            <option value= 43>Cobar</option>\n",
        "                            <option value= 9>CoffsHarbour</option>\n",
        "                            <option value= 4>Dartmoor</option>\n",
        "                            <option value= 11>Darwin</option>\n",
        "                            <option value= 15>GoldCoast</option>\n",
        "                            <option value= 17>Hobart</option>\n",
        "                            <option value= 45>Katherine</option>\n",
        "                            <option value= 23>Launceston</option>\n",
        "                            <option value= 28>Melbourne</option>\n",
        "                            <option value= 25>Melbourne Airport</option>\n",
        "                            <option value= 44>Mildura</option>\n",
        "                            <option value= 42>Moree</option>\n",
        "                            <option value= 5>MountGambier</option>\n",
        "                            <option value= 12>MountGinini</option>\n",
        "                            <option value= 19>Newcastle\t</option>\n",
        "                            <option value= 47>Nhil</option>\n",
        "                            <option value= 13>NorahHead</option>\n",
        "                            <option value= 6>NorfolkIsland</option>\n",
        "                            <option value= 32>Nuriootpa</option>\n",
        "                            <option value= 40>PearceRAAF</option>\n",
        "                            <option value= 31>Penrith</option>\n",
        "                            <option value= 26>Perth</option>\n",
        "                            <option value= 35>Perth Airport</option>\n",
        "                            <option value= 1>Portland</option>\n",
        "                            <option value= 37>Richmond</option>\n",
        "                            <option value= 27>Sale</option>\n",
        "                            <option value= 41>Salmon Gums</option>\n",
        "                            <option value= 10>Sydney</option>\n",
        "                            <option value= 16>Sydney Airport</option>\n",
        "                            <option value= 39>Townsville</option>\n",
        "                            <option value= 34>Tuggeranong</option>\n",
        "                            <option value= 49>Uluru</option>\n",
        "                            <option value= 38>WaggaWagga</option>\n",
        "                            <option value= 3>Walpole</option>\n",
        "                            <option value= 18>Watsonia</option>\n",
        "                            <option value= 22>William Town</option>\n",
        "                            <option value= 8>Witchcliffe</option>\n",
        "                            <option value= 20>Wollongong</option>\n",
        "                            <option value= 48>Woomera</option>\n",
        "                        </select>\n",
        "                    </div>\n",
        "                </div>\n",
        "                <div class=\"col-md-6 my-2\">\n",
        "                    <div class=\"md-form\">\n",
        "                        <label for=\"winddir9am\" class=\"winddir9am\" name = \"winddir9am\">Wind Direction at 9am</label>\n",
        "                        <select class=\"winddir9am\" id=\"winddir9am\" name=\"winddir9am\" aria-label=\"Wind Direction 9am\">\n",
        "                            <option selected>Select Wind Direction at 9am</option>\n",
        "                            <option value= 1>N</option>\n",
        "                            <option value= 5>W</option>\n",
        "                            <option value= 10>S</option>\n",
        "                            <option value= 15>E</option>\n",
        "                            <option value= 2>NW</option>\n",
        "                            <option value= 9>NE</option>\n",
        "                            <option value= 7>SW</option>\n",
        "                            <option value= 13>SE</option>\n",
        "                            <option value= 0>NNW</option>\n",
        "                            <option value= 3>NNE</option>\n",
        "                            <option value= 8>SSW</option>\n",
        "                            <option value= 11>SSE</option>\n",
        "                            <option value= 4>WNW</option>\n",
        "                            <option value= 6>WSW</option>\n",
        "                            <option value= 12>ENE</option>\n",
        "                            <option value= 14>ESE</option>\n",
        "                        </select>\n",
        "                    </div>\n",
        "                </div>\n",
        "                <div class=\"col-md-6 my-2\">\n",
        "                    <div class=\"md-form\">\n",
        "                        <label for=\"winddir3pm\" class=\"winddir3pm\" name = \"winddir3pm\">Wind Direction at 3pm</label>\n",
        "                        <select class=\"winddir3pm\" id=\"winddir3pm\" name = \"winddir3pm\" aria-label=\"Wind Direction at 3pm\">\n",
        "                            <option selected>Select Wind Direction at 3pm</option>\n",
        "                            <option value= 2>N</option>\n",
        "                            <option value= 4>W</option>\n",
        "                            <option value= 8>S</option>\n",
        "                            <option value= 14>E</option>\n",
        "                            <option value= 0>NW</option>\n",
        "                            <option value= 11>NE</option>\n",
        "                            <option value= 9>SW</option>\n",
        "                            <option value= 10>SE</option>\n",
        "                            <option value= 1>NNW</option>\n",
        "                            <option value= 5>NNE</option>\n",
        "                            <option value= 7>SSW</option>\n",
        "                            <option value= 12>SSE</option>\n",
        "                            <option value= 3>WNW</option>\n",
        "                            <option value= 6>WSW</option>\n",
        "                            <option value= 13>ENE</option>\n",
        "                            <option value= 15>ESE</option>\n",
        "                        </select>\n",
        "                    </div>\n",
        "                </div>\n",
        "                <div class=\"col-md-6 my-2\">\n",
        "                    <div class=\"md-form\">\n",
        "                        <label for=\"windgustdir\" class=\"windgustdir\" name = \"windgustdir\">Wind Gust Direction</label>\n",
        "                        <select class=\"windgustdir\" id=\"windgustdir\" name = \"windgustdir\" aria-label=\"Wind Gust Direction\">\n",
        "                            <option selected>Select Wind Gust Direction</option>\n",
        "                            <option value= 3>N</option>\n",
        "                            <option value= 4>W</option>\n",
        "                            <option value= 7>S</option>\n",
        "                            <option value= 15>E</option>\n",
        "                            <option value= 1>NW</option>\n",
        "                            <option value= 11>NE</option>\n",
        "                            <option value= 9>SW</option>\n",
        "                            <option value= 12>SE</option>\n",
        "                            <option value= 0>NNW</option>\n",
        "                            <option value= 6>NNE</option>\n",
        "                            <option value= 8>SSW</option>\n",
        "                            <option value= 10>SSE</option>\n",
        "                            <option value= 2>WNW</option>\n",
        "                            <option value= 5>WSW</option>\n",
        "                            <option value= 14>ENE</option>\n",
        "                            <option value= 13>ESE</option>\n",
        "                        </select>\n",
        "                    </div>\n",
        "                </div>\n",
        "                <div class=\"col-md-6 my-2\">\n",
        "                    <div class=\"md-form\">\n",
        "                        <label for=\"raintoday\" class=\"raintoday\" name=\"raintoday\">Rain Today</label>\n",
        "                        <select class=\"raintoday\" id=\"raintoday\" name=\"raintoday\" aria-label=\"Rain Today\">\n",
        "                            <option selected>Did it Rain Today</option>\n",
        "                            <option value= 1>Yes</option>\n",
        "                            <option value= 0>No</option>\n",
        "                        </select>\n",
        "                    </div>\n",
        "                </div>\n",
        "                <div class=\"col-md-6 my-2 d-flex align-items-end justify-content-around\">\n",
        "                    <button type=\"submit\" class=\"btn btn-info button\" style=\"margin-left: 100%;\">Predict</button>\n",
        "                </div>\n",
        "            </div>\n",
        "        </form>\n",
        "    </section>\n",
        "\n",
        "    <script src=\"https://cdn.jsdelivr.net/npm/bootstrap@5.0.0-beta2/dist/js/bootstrap.bundle.min.js\"\n",
        "    integrity=\"sha384-b5kHyXgcpbZJO/tY9Ul7kGkf1S0CWuKcCD38l8YkeH8z8QjE0GmW1gYU5S9FOnJ0\" crossorigin=\"anonymous\"></script>\n",
        "</body>\n",
        "</html>\n",
        "\n",
        "\n",
        "\n",
        "\n",
        "\n",
        "\n",
        "\n"
      ],
      "metadata": {
        "id": "PLVU-gPpuWGc"
      },
      "execution_count": null,
      "outputs": []
    },
    {
      "cell_type": "code",
      "source": [
        "<!DOCTYPE html>\n",
        "<html lang=\"en\">\n",
        "<head>\n",
        "    <meta charset=\"UTF-8\">\n",
        "    <meta http-equiv=\"X-UA-Compatible\" content=\"IE=edge\">\n",
        "    <meta name=\"viewport\" content=\"width=device-width, initial-scale=1.0\">\n",
        "    <link href=\"https://fonts.googleapis.com/css2?family=Poppins:wght@100;400;500;600;700;800;900&display=swap\" rel=\"stylesheet\">\n",
        "    <link rel=\"stylesheet\" href='../static/after_rainy.css'>\n",
        "    <title>Rainy Day</title>\n",
        "</head>\n",
        "<body>\n",
        "    <h1 style=\"text-align: center; font-size: 3 rem; font-weight: bolder\">RAINY DAY</h1>\n",
        "    <div class=\"rainyimg\">\n",
        "        <img src=\"../static/rain.jpg\"  style=\"height: 500px; width: 550px; margin-left: 32%\">\n",
        "    </div>\n",
        "    <div>\n",
        "        <h2><center> Tomorrow is going to be a rainy day, So enjoy yourselves\n",
        "        with a cup of coffee and hot snack. </center></h2>\n",
        "   </div>\n",
        "</body>\n",
        "</html>"
      ],
      "metadata": {
        "id": "c7n7IqPh-n9Z"
      },
      "execution_count": null,
      "outputs": []
    },
    {
      "cell_type": "code",
      "source": [
        "<!DOCTYPE html>\n",
        "<html lang=\"en\">\n",
        "<head>\n",
        "    <meta charset=\"UTF-8\">\n",
        "    <meta http-equiv=\"X-UA-Compatible\" content=\"IE=edge\">\n",
        "    <meta name=\"viewport\" content=\"width=device-width, initial-scale=1.0\">\n",
        "    <link href=\"https://fonts.googleapis.com/css2?family=Poppins:wght@100;400;500;600;700;800;900&display=swap\" rel=\"stylesheet\">\n",
        "    <link rel=\"stylesheet\" href=\"../static/sunny.css\">\n",
        "    <title>Sunny Day</title>\n",
        "</head>\n",
        "<body>\n",
        "    <h1 style=\"text-align: center; font-size: 3 rem; font-weight: bolder\">SUNNY DAY</h1>\n",
        "    <div class=\"rainyimg\">\n",
        "        <img src=\"../static/suny.jpg\" style=\"height: 500px; width: 550px; margin-left: 32%\">\n",
        "    </div>\n",
        "    <div>\n",
        "        <h2><center> Tomorrow is going to be a sunny day, So enjoy yourselves\n",
        "        with a cool milkshake and icecream. </center></h2>\n",
        "   </div>\n",
        "</body>\n",
        "</html>"
      ],
      "metadata": {
        "id": "XVXmw5rC_RhK"
      },
      "execution_count": null,
      "outputs": []
    }
  ]
}